{
 "cells": [
  {
   "cell_type": "code",
   "execution_count": 22,
   "metadata": {
    "collapsed": true
   },
   "outputs": [],
   "source": [
    "import pandas as pd"
   ]
  },
  {
   "cell_type": "code",
   "execution_count": 23,
   "outputs": [],
   "source": [
    "df =pd.read_csv(\"compas-scores-raw.csv\")\n",
    "\n",
    "to_drop = ['IsCompleted', 'IsDeleted', 'AssessmentType', 'MiddleName',\n",
    "           'Person_ID', 'AssessmentID', 'Case_ID', 'Agency_Text',\n",
    "           'LastName', 'FirstName', 'DateOfBirth', 'Language',\n",
    "           'RecSupervisionLevel', 'RecSupervisionLevelText', 'DisplayText',\n",
    "           'RawScore', 'DecileScore', 'Screening_Date', 'ScaleSet']\n",
    "df = df.drop(to_drop, axis=1)\n",
    "\n",
    "\n",
    "Sex_Code_Text = {\"Male\": 1, \"Female\": 2}\n",
    "df[\"Sex_Code_Text\"] = df[\"Sex_Code_Text\"].map(Sex_Code_Text)\n",
    "\n",
    "Ethnic_Code_Text = {\"Caucasian\": 1, \"African-American\": 2, \"African-Am\": 2}\n",
    "df[\"Ethnic_Code_Text\"] = df[\"Ethnic_Code_Text\"].map(Ethnic_Code_Text)\n",
    "\n",
    "LegalStatus = {'Pretrial': 1, 'Post Sentence': 2, 'Conditional Release': 3,\n",
    "               'Probation Violator': 4, 'Parole Violator': 5, 'Deferred Sentencing': 6, 'Other': 7}\n",
    "df[\"LegalStatus\"] = df[\"LegalStatus\"].map(LegalStatus)\n",
    "\n",
    "AssessmentReason = {\"Intake\": 1}\n",
    "df[\"AssessmentReason\"] = df[\"AssessmentReason\"].map(AssessmentReason)\n",
    "\n",
    "CustodyStatus = {'Jail Inmate': 1, 'Probation': 2, 'Pretrial Defendant': 3, 'Residential Program': 4,\n",
    "                 'Prison Inmate': 5, 'Parole': 6}\n",
    "df[\"CustodyStatus\"] = df[\"CustodyStatus\"].map(CustodyStatus)\n",
    "\n",
    "MaritalStatus = {'Single': 1, 'Married': 2, 'Significant Other': 3, 'Divorced': 4, 'Separated': 5, 'Widowed': 6,\n",
    "                 'Unknown': 7}\n",
    "df[\"MaritalStatus\"] = df[\"MaritalStatus\"].map(MaritalStatus)\n",
    "\n",
    "ScaleSet_ID = {22: 1, 17: 2}\n",
    "df[\"ScaleSet_ID\"] = df[\"ScaleSet_ID\"].map(ScaleSet_ID)\n",
    "\n",
    "Scale_ID = {7: 1, 8: 2, 18: 3}\n",
    "df[\"Scale_ID\"] = df[\"Scale_ID\"].map(Scale_ID)\n",
    "\n",
    "ScoreText={\"Low\":1, \"Medium\":2, \"High\":3 }\n",
    "df[\"ScoreText\"]=df[\"ScoreText\"].map(ScoreText)\n",
    "\n",
    "df = df.dropna()"
   ],
   "metadata": {
    "collapsed": false
   }
  },
  {
   "cell_type": "code",
   "execution_count": 24,
   "outputs": [
    {
     "data": {
      "text/plain": "    Sex_Code_Text  Ethnic_Code_Text  ScaleSet_ID  AssessmentReason  \\\n0               1               1.0            1                 1   \n1               1               1.0            1                 1   \n2               1               1.0            1                 1   \n3               1               1.0            1                 1   \n4               1               1.0            1                 1   \n5               1               1.0            1                 1   \n6               1               2.0            1                 1   \n7               1               2.0            1                 1   \n8               1               2.0            1                 1   \n9               2               2.0            1                 1   \n10              2               2.0            1                 1   \n11              2               2.0            1                 1   \n12              2               2.0            1                 1   \n13              2               2.0            1                 1   \n14              2               2.0            1                 1   \n18              2               1.0            1                 1   \n19              2               1.0            1                 1   \n20              2               1.0            1                 1   \n21              1               2.0            1                 1   \n22              1               2.0            1                 1   \n\n    LegalStatus  CustodyStatus  MaritalStatus  Scale_ID  ScoreText  \n0             1              1              1         1        1.0  \n1             1              1              1         2        1.0  \n2             1              1              1         3        1.0  \n3             1              1              2         1        1.0  \n4             1              1              2         2        1.0  \n5             1              1              2         3        1.0  \n6             1              1              1         1        3.0  \n7             1              1              1         2        3.0  \n8             1              1              1         3        1.0  \n9             1              1              3         1        2.0  \n10            1              1              3         2        2.0  \n11            1              1              3         3        1.0  \n12            1              1              1         1        1.0  \n13            1              1              1         2        1.0  \n14            1              1              1         3        1.0  \n18            1              1              1         1        1.0  \n19            1              1              1         2        1.0  \n20            1              1              1         3        1.0  \n21            1              1              1         1        2.0  \n22            1              1              1         2        3.0  ",
      "text/html": "<div>\n<style scoped>\n    .dataframe tbody tr th:only-of-type {\n        vertical-align: middle;\n    }\n\n    .dataframe tbody tr th {\n        vertical-align: top;\n    }\n\n    .dataframe thead th {\n        text-align: right;\n    }\n</style>\n<table border=\"1\" class=\"dataframe\">\n  <thead>\n    <tr style=\"text-align: right;\">\n      <th></th>\n      <th>Sex_Code_Text</th>\n      <th>Ethnic_Code_Text</th>\n      <th>ScaleSet_ID</th>\n      <th>AssessmentReason</th>\n      <th>LegalStatus</th>\n      <th>CustodyStatus</th>\n      <th>MaritalStatus</th>\n      <th>Scale_ID</th>\n      <th>ScoreText</th>\n    </tr>\n  </thead>\n  <tbody>\n    <tr>\n      <th>0</th>\n      <td>1</td>\n      <td>1.0</td>\n      <td>1</td>\n      <td>1</td>\n      <td>1</td>\n      <td>1</td>\n      <td>1</td>\n      <td>1</td>\n      <td>1.0</td>\n    </tr>\n    <tr>\n      <th>1</th>\n      <td>1</td>\n      <td>1.0</td>\n      <td>1</td>\n      <td>1</td>\n      <td>1</td>\n      <td>1</td>\n      <td>1</td>\n      <td>2</td>\n      <td>1.0</td>\n    </tr>\n    <tr>\n      <th>2</th>\n      <td>1</td>\n      <td>1.0</td>\n      <td>1</td>\n      <td>1</td>\n      <td>1</td>\n      <td>1</td>\n      <td>1</td>\n      <td>3</td>\n      <td>1.0</td>\n    </tr>\n    <tr>\n      <th>3</th>\n      <td>1</td>\n      <td>1.0</td>\n      <td>1</td>\n      <td>1</td>\n      <td>1</td>\n      <td>1</td>\n      <td>2</td>\n      <td>1</td>\n      <td>1.0</td>\n    </tr>\n    <tr>\n      <th>4</th>\n      <td>1</td>\n      <td>1.0</td>\n      <td>1</td>\n      <td>1</td>\n      <td>1</td>\n      <td>1</td>\n      <td>2</td>\n      <td>2</td>\n      <td>1.0</td>\n    </tr>\n    <tr>\n      <th>5</th>\n      <td>1</td>\n      <td>1.0</td>\n      <td>1</td>\n      <td>1</td>\n      <td>1</td>\n      <td>1</td>\n      <td>2</td>\n      <td>3</td>\n      <td>1.0</td>\n    </tr>\n    <tr>\n      <th>6</th>\n      <td>1</td>\n      <td>2.0</td>\n      <td>1</td>\n      <td>1</td>\n      <td>1</td>\n      <td>1</td>\n      <td>1</td>\n      <td>1</td>\n      <td>3.0</td>\n    </tr>\n    <tr>\n      <th>7</th>\n      <td>1</td>\n      <td>2.0</td>\n      <td>1</td>\n      <td>1</td>\n      <td>1</td>\n      <td>1</td>\n      <td>1</td>\n      <td>2</td>\n      <td>3.0</td>\n    </tr>\n    <tr>\n      <th>8</th>\n      <td>1</td>\n      <td>2.0</td>\n      <td>1</td>\n      <td>1</td>\n      <td>1</td>\n      <td>1</td>\n      <td>1</td>\n      <td>3</td>\n      <td>1.0</td>\n    </tr>\n    <tr>\n      <th>9</th>\n      <td>2</td>\n      <td>2.0</td>\n      <td>1</td>\n      <td>1</td>\n      <td>1</td>\n      <td>1</td>\n      <td>3</td>\n      <td>1</td>\n      <td>2.0</td>\n    </tr>\n    <tr>\n      <th>10</th>\n      <td>2</td>\n      <td>2.0</td>\n      <td>1</td>\n      <td>1</td>\n      <td>1</td>\n      <td>1</td>\n      <td>3</td>\n      <td>2</td>\n      <td>2.0</td>\n    </tr>\n    <tr>\n      <th>11</th>\n      <td>2</td>\n      <td>2.0</td>\n      <td>1</td>\n      <td>1</td>\n      <td>1</td>\n      <td>1</td>\n      <td>3</td>\n      <td>3</td>\n      <td>1.0</td>\n    </tr>\n    <tr>\n      <th>12</th>\n      <td>2</td>\n      <td>2.0</td>\n      <td>1</td>\n      <td>1</td>\n      <td>1</td>\n      <td>1</td>\n      <td>1</td>\n      <td>1</td>\n      <td>1.0</td>\n    </tr>\n    <tr>\n      <th>13</th>\n      <td>2</td>\n      <td>2.0</td>\n      <td>1</td>\n      <td>1</td>\n      <td>1</td>\n      <td>1</td>\n      <td>1</td>\n      <td>2</td>\n      <td>1.0</td>\n    </tr>\n    <tr>\n      <th>14</th>\n      <td>2</td>\n      <td>2.0</td>\n      <td>1</td>\n      <td>1</td>\n      <td>1</td>\n      <td>1</td>\n      <td>1</td>\n      <td>3</td>\n      <td>1.0</td>\n    </tr>\n    <tr>\n      <th>18</th>\n      <td>2</td>\n      <td>1.0</td>\n      <td>1</td>\n      <td>1</td>\n      <td>1</td>\n      <td>1</td>\n      <td>1</td>\n      <td>1</td>\n      <td>1.0</td>\n    </tr>\n    <tr>\n      <th>19</th>\n      <td>2</td>\n      <td>1.0</td>\n      <td>1</td>\n      <td>1</td>\n      <td>1</td>\n      <td>1</td>\n      <td>1</td>\n      <td>2</td>\n      <td>1.0</td>\n    </tr>\n    <tr>\n      <th>20</th>\n      <td>2</td>\n      <td>1.0</td>\n      <td>1</td>\n      <td>1</td>\n      <td>1</td>\n      <td>1</td>\n      <td>1</td>\n      <td>3</td>\n      <td>1.0</td>\n    </tr>\n    <tr>\n      <th>21</th>\n      <td>1</td>\n      <td>2.0</td>\n      <td>1</td>\n      <td>1</td>\n      <td>1</td>\n      <td>1</td>\n      <td>1</td>\n      <td>1</td>\n      <td>2.0</td>\n    </tr>\n    <tr>\n      <th>22</th>\n      <td>1</td>\n      <td>2.0</td>\n      <td>1</td>\n      <td>1</td>\n      <td>1</td>\n      <td>1</td>\n      <td>1</td>\n      <td>2</td>\n      <td>3.0</td>\n    </tr>\n  </tbody>\n</table>\n</div>"
     },
     "execution_count": 24,
     "metadata": {},
     "output_type": "execute_result"
    }
   ],
   "source": [
    "df.head(20)"
   ],
   "metadata": {
    "collapsed": false
   }
  },
  {
   "cell_type": "code",
   "execution_count": 21,
   "outputs": [],
   "source": [
    "# df.to_csv(\"compas-scores-preprocessed.csv\", index=False, header=False)"
   ],
   "metadata": {
    "collapsed": false
   }
  },
  {
   "cell_type": "code",
   "execution_count": 27,
   "outputs": [
    {
     "data": {
      "text/plain": "      Sex_Code_Text Ethnic_Code_Text ScaleSet_ID AssessmentReason LegalStatus  \\\ncount     48818.000        48818.000   48818.000        48818.000   48818.000   \nmean          1.226            1.554       1.039            1.000       1.616   \nstd           0.418            0.497       0.193            0.000       1.339   \nmin           1.000            1.000       1.000            1.000       1.000   \n25%           1.000            1.000       1.000            1.000       1.000   \n50%           1.000            2.000       1.000            1.000       1.000   \n75%           1.000            2.000       1.000            1.000       2.000   \nmax           2.000            2.000       2.000            1.000       7.000   \n\n      CustodyStatus MaritalStatus   Scale_ID  ScoreText  \ncount     48818.000     48818.000  48818.000  48818.000  \nmean          1.614         1.488      2.000      1.475  \nstd           0.720         1.089      0.817      0.710  \nmin           1.000         1.000      1.000      1.000  \n25%           1.000         1.000      1.000      1.000  \n50%           1.000         1.000      2.000      1.000  \n75%           2.000         1.000      3.000      2.000  \nmax           6.000         7.000      3.000      3.000  ",
      "text/html": "<div>\n<style scoped>\n    .dataframe tbody tr th:only-of-type {\n        vertical-align: middle;\n    }\n\n    .dataframe tbody tr th {\n        vertical-align: top;\n    }\n\n    .dataframe thead th {\n        text-align: right;\n    }\n</style>\n<table border=\"1\" class=\"dataframe\">\n  <thead>\n    <tr style=\"text-align: right;\">\n      <th></th>\n      <th>Sex_Code_Text</th>\n      <th>Ethnic_Code_Text</th>\n      <th>ScaleSet_ID</th>\n      <th>AssessmentReason</th>\n      <th>LegalStatus</th>\n      <th>CustodyStatus</th>\n      <th>MaritalStatus</th>\n      <th>Scale_ID</th>\n      <th>ScoreText</th>\n    </tr>\n  </thead>\n  <tbody>\n    <tr>\n      <th>count</th>\n      <td>48818.000</td>\n      <td>48818.000</td>\n      <td>48818.000</td>\n      <td>48818.000</td>\n      <td>48818.000</td>\n      <td>48818.000</td>\n      <td>48818.000</td>\n      <td>48818.000</td>\n      <td>48818.000</td>\n    </tr>\n    <tr>\n      <th>mean</th>\n      <td>1.226</td>\n      <td>1.554</td>\n      <td>1.039</td>\n      <td>1.000</td>\n      <td>1.616</td>\n      <td>1.614</td>\n      <td>1.488</td>\n      <td>2.000</td>\n      <td>1.475</td>\n    </tr>\n    <tr>\n      <th>std</th>\n      <td>0.418</td>\n      <td>0.497</td>\n      <td>0.193</td>\n      <td>0.000</td>\n      <td>1.339</td>\n      <td>0.720</td>\n      <td>1.089</td>\n      <td>0.817</td>\n      <td>0.710</td>\n    </tr>\n    <tr>\n      <th>min</th>\n      <td>1.000</td>\n      <td>1.000</td>\n      <td>1.000</td>\n      <td>1.000</td>\n      <td>1.000</td>\n      <td>1.000</td>\n      <td>1.000</td>\n      <td>1.000</td>\n      <td>1.000</td>\n    </tr>\n    <tr>\n      <th>25%</th>\n      <td>1.000</td>\n      <td>1.000</td>\n      <td>1.000</td>\n      <td>1.000</td>\n      <td>1.000</td>\n      <td>1.000</td>\n      <td>1.000</td>\n      <td>1.000</td>\n      <td>1.000</td>\n    </tr>\n    <tr>\n      <th>50%</th>\n      <td>1.000</td>\n      <td>2.000</td>\n      <td>1.000</td>\n      <td>1.000</td>\n      <td>1.000</td>\n      <td>1.000</td>\n      <td>1.000</td>\n      <td>2.000</td>\n      <td>1.000</td>\n    </tr>\n    <tr>\n      <th>75%</th>\n      <td>1.000</td>\n      <td>2.000</td>\n      <td>1.000</td>\n      <td>1.000</td>\n      <td>2.000</td>\n      <td>2.000</td>\n      <td>1.000</td>\n      <td>3.000</td>\n      <td>2.000</td>\n    </tr>\n    <tr>\n      <th>max</th>\n      <td>2.000</td>\n      <td>2.000</td>\n      <td>2.000</td>\n      <td>1.000</td>\n      <td>7.000</td>\n      <td>6.000</td>\n      <td>7.000</td>\n      <td>3.000</td>\n      <td>3.000</td>\n    </tr>\n  </tbody>\n</table>\n</div>"
     },
     "execution_count": 27,
     "metadata": {},
     "output_type": "execute_result"
    }
   ],
   "source": [
    "df.describe().applymap(lambda x: f\"{x:0.3f}\")"
   ],
   "metadata": {
    "collapsed": false
   }
  },
  {
   "cell_type": "code",
   "execution_count": null,
   "outputs": [],
   "source": [],
   "metadata": {
    "collapsed": false
   }
  }
 ],
 "metadata": {
  "kernelspec": {
   "display_name": "Python 3",
   "language": "python",
   "name": "python3"
  },
  "language_info": {
   "codemirror_mode": {
    "name": "ipython",
    "version": 2
   },
   "file_extension": ".py",
   "mimetype": "text/x-python",
   "name": "python",
   "nbconvert_exporter": "python",
   "pygments_lexer": "ipython2",
   "version": "2.7.6"
  }
 },
 "nbformat": 4,
 "nbformat_minor": 0
}
