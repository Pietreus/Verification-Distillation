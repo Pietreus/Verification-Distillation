{
 "cells": [
  {
   "cell_type": "code",
   "execution_count": 1,
   "metadata": {
    "collapsed": true
   },
   "outputs": [],
   "source": [
    "import pandas as pd"
   ]
  },
  {
   "cell_type": "code",
   "execution_count": 23,
   "outputs": [],
   "source": [
    "df =pd.read_csv(\"compas-scores-raw.csv\")\n",
    "\n",
    "to_drop = ['IsCompleted', 'IsDeleted', 'AssessmentType', 'MiddleName',\n",
    "           'Person_ID', 'AssessmentID', 'Case_ID', 'Agency_Text',\n",
    "           'LastName', 'FirstName', 'DateOfBirth', 'Language',\n",
    "           'RecSupervisionLevel', 'RecSupervisionLevelText', 'DisplayText',\n",
    "           'RawScore', 'DecileScore', 'Screening_Date', 'ScaleSet']\n",
    "df = df.drop(to_drop, axis=1)\n",
    "\n",
    "\n",
    "Sex_Code_Text = {\"Male\": 1, \"Female\": 2}\n",
    "df[\"Sex_Code_Text\"] = df[\"Sex_Code_Text\"].map(Sex_Code_Text)\n",
    "\n",
    "Ethnic_Code_Text = {\"Caucasian\": 1, \"African-American\": 2, \"African-Am\": 2}\n",
    "df[\"Ethnic_Code_Text\"] = df[\"Ethnic_Code_Text\"].map(Ethnic_Code_Text)\n",
    "\n",
    "LegalStatus = {'Pretrial': 1, 'Post Sentence': 2, 'Conditional Release': 3,\n",
    "               'Probation Violator': 4, 'Parole Violator': 5, 'Deferred Sentencing': 6, 'Other': 7}\n",
    "df[\"LegalStatus\"] = df[\"LegalStatus\"].map(LegalStatus)\n",
    "\n",
    "AssessmentReason = {\"Intake\": 1}\n",
    "df[\"AssessmentReason\"] = df[\"AssessmentReason\"].map(AssessmentReason)\n",
    "\n",
    "CustodyStatus = {'Jail Inmate': 1, 'Probation': 2, 'Pretrial Defendant': 3, 'Residential Program': 4,\n",
    "                 'Prison Inmate': 5, 'Parole': 6}\n",
    "df[\"CustodyStatus\"] = df[\"CustodyStatus\"].map(CustodyStatus)\n",
    "\n",
    "MaritalStatus = {'Single': 1, 'Married': 2, 'Significant Other': 3, 'Divorced': 4, 'Separated': 5, 'Widowed': 6,\n",
    "                 'Unknown': 7}\n",
    "df[\"MaritalStatus\"] = df[\"MaritalStatus\"].map(MaritalStatus)\n",
    "\n",
    "ScaleSet_ID = {22: 1, 17: 2}\n",
    "df[\"ScaleSet_ID\"] = df[\"ScaleSet_ID\"].map(ScaleSet_ID)\n",
    "\n",
    "Scale_ID = {7: 1, 8: 2, 18: 3}\n",
    "df[\"Scale_ID\"] = df[\"Scale_ID\"].map(Scale_ID)\n",
    "\n",
    "ScoreText={\"Low\":1, \"Medium\":2, \"High\":3 }\n",
    "df[\"ScoreText\"]=df[\"ScoreText\"].map(ScoreText)\n",
    "\n",
    "df = df.dropna()"
   ],
   "metadata": {
    "collapsed": false
   }
  },
  {
   "cell_type": "code",
   "execution_count": 24,
   "outputs": [
    {
     "data": {
      "text/plain": "    Sex_Code_Text  Ethnic_Code_Text  ScaleSet_ID  AssessmentReason  \\\n0               1               1.0            1                 1   \n1               1               1.0            1                 1   \n2               1               1.0            1                 1   \n3               1               1.0            1                 1   \n4               1               1.0            1                 1   \n5               1               1.0            1                 1   \n6               1               2.0            1                 1   \n7               1               2.0            1                 1   \n8               1               2.0            1                 1   \n9               2               2.0            1                 1   \n10              2               2.0            1                 1   \n11              2               2.0            1                 1   \n12              2               2.0            1                 1   \n13              2               2.0            1                 1   \n14              2               2.0            1                 1   \n18              2               1.0            1                 1   \n19              2               1.0            1                 1   \n20              2               1.0            1                 1   \n21              1               2.0            1                 1   \n22              1               2.0            1                 1   \n\n    LegalStatus  CustodyStatus  MaritalStatus  Scale_ID  ScoreText  \n0             1              1              1         1        1.0  \n1             1              1              1         2        1.0  \n2             1              1              1         3        1.0  \n3             1              1              2         1        1.0  \n4             1              1              2         2        1.0  \n5             1              1              2         3        1.0  \n6             1              1              1         1        3.0  \n7             1              1              1         2        3.0  \n8             1              1              1         3        1.0  \n9             1              1              3         1        2.0  \n10            1              1              3         2        2.0  \n11            1              1              3         3        1.0  \n12            1              1              1         1        1.0  \n13            1              1              1         2        1.0  \n14            1              1              1         3        1.0  \n18            1              1              1         1        1.0  \n19            1              1              1         2        1.0  \n20            1              1              1         3        1.0  \n21            1              1              1         1        2.0  \n22            1              1              1         2        3.0  ",
      "text/html": "<div>\n<style scoped>\n    .dataframe tbody tr th:only-of-type {\n        vertical-align: middle;\n    }\n\n    .dataframe tbody tr th {\n        vertical-align: top;\n    }\n\n    .dataframe thead th {\n        text-align: right;\n    }\n</style>\n<table border=\"1\" class=\"dataframe\">\n  <thead>\n    <tr style=\"text-align: right;\">\n      <th></th>\n      <th>Sex_Code_Text</th>\n      <th>Ethnic_Code_Text</th>\n      <th>ScaleSet_ID</th>\n      <th>AssessmentReason</th>\n      <th>LegalStatus</th>\n      <th>CustodyStatus</th>\n      <th>MaritalStatus</th>\n      <th>Scale_ID</th>\n      <th>ScoreText</th>\n    </tr>\n  </thead>\n  <tbody>\n    <tr>\n      <th>0</th>\n      <td>1</td>\n      <td>1.0</td>\n      <td>1</td>\n      <td>1</td>\n      <td>1</td>\n      <td>1</td>\n      <td>1</td>\n      <td>1</td>\n      <td>1.0</td>\n    </tr>\n    <tr>\n      <th>1</th>\n      <td>1</td>\n      <td>1.0</td>\n      <td>1</td>\n      <td>1</td>\n      <td>1</td>\n      <td>1</td>\n      <td>1</td>\n      <td>2</td>\n      <td>1.0</td>\n    </tr>\n    <tr>\n      <th>2</th>\n      <td>1</td>\n      <td>1.0</td>\n      <td>1</td>\n      <td>1</td>\n      <td>1</td>\n      <td>1</td>\n      <td>1</td>\n      <td>3</td>\n      <td>1.0</td>\n    </tr>\n    <tr>\n      <th>3</th>\n      <td>1</td>\n      <td>1.0</td>\n      <td>1</td>\n      <td>1</td>\n      <td>1</td>\n      <td>1</td>\n      <td>2</td>\n      <td>1</td>\n      <td>1.0</td>\n    </tr>\n    <tr>\n      <th>4</th>\n      <td>1</td>\n      <td>1.0</td>\n      <td>1</td>\n      <td>1</td>\n      <td>1</td>\n      <td>1</td>\n      <td>2</td>\n      <td>2</td>\n      <td>1.0</td>\n    </tr>\n    <tr>\n      <th>5</th>\n      <td>1</td>\n      <td>1.0</td>\n      <td>1</td>\n      <td>1</td>\n      <td>1</td>\n      <td>1</td>\n      <td>2</td>\n      <td>3</td>\n      <td>1.0</td>\n    </tr>\n    <tr>\n      <th>6</th>\n      <td>1</td>\n      <td>2.0</td>\n      <td>1</td>\n      <td>1</td>\n      <td>1</td>\n      <td>1</td>\n      <td>1</td>\n      <td>1</td>\n      <td>3.0</td>\n    </tr>\n    <tr>\n      <th>7</th>\n      <td>1</td>\n      <td>2.0</td>\n      <td>1</td>\n      <td>1</td>\n      <td>1</td>\n      <td>1</td>\n      <td>1</td>\n      <td>2</td>\n      <td>3.0</td>\n    </tr>\n    <tr>\n      <th>8</th>\n      <td>1</td>\n      <td>2.0</td>\n      <td>1</td>\n      <td>1</td>\n      <td>1</td>\n      <td>1</td>\n      <td>1</td>\n      <td>3</td>\n      <td>1.0</td>\n    </tr>\n    <tr>\n      <th>9</th>\n      <td>2</td>\n      <td>2.0</td>\n      <td>1</td>\n      <td>1</td>\n      <td>1</td>\n      <td>1</td>\n      <td>3</td>\n      <td>1</td>\n      <td>2.0</td>\n    </tr>\n    <tr>\n      <th>10</th>\n      <td>2</td>\n      <td>2.0</td>\n      <td>1</td>\n      <td>1</td>\n      <td>1</td>\n      <td>1</td>\n      <td>3</td>\n      <td>2</td>\n      <td>2.0</td>\n    </tr>\n    <tr>\n      <th>11</th>\n      <td>2</td>\n      <td>2.0</td>\n      <td>1</td>\n      <td>1</td>\n      <td>1</td>\n      <td>1</td>\n      <td>3</td>\n      <td>3</td>\n      <td>1.0</td>\n    </tr>\n    <tr>\n      <th>12</th>\n      <td>2</td>\n      <td>2.0</td>\n      <td>1</td>\n      <td>1</td>\n      <td>1</td>\n      <td>1</td>\n      <td>1</td>\n      <td>1</td>\n      <td>1.0</td>\n    </tr>\n    <tr>\n      <th>13</th>\n      <td>2</td>\n      <td>2.0</td>\n      <td>1</td>\n      <td>1</td>\n      <td>1</td>\n      <td>1</td>\n      <td>1</td>\n      <td>2</td>\n      <td>1.0</td>\n    </tr>\n    <tr>\n      <th>14</th>\n      <td>2</td>\n      <td>2.0</td>\n      <td>1</td>\n      <td>1</td>\n      <td>1</td>\n      <td>1</td>\n      <td>1</td>\n      <td>3</td>\n      <td>1.0</td>\n    </tr>\n    <tr>\n      <th>18</th>\n      <td>2</td>\n      <td>1.0</td>\n      <td>1</td>\n      <td>1</td>\n      <td>1</td>\n      <td>1</td>\n      <td>1</td>\n      <td>1</td>\n      <td>1.0</td>\n    </tr>\n    <tr>\n      <th>19</th>\n      <td>2</td>\n      <td>1.0</td>\n      <td>1</td>\n      <td>1</td>\n      <td>1</td>\n      <td>1</td>\n      <td>1</td>\n      <td>2</td>\n      <td>1.0</td>\n    </tr>\n    <tr>\n      <th>20</th>\n      <td>2</td>\n      <td>1.0</td>\n      <td>1</td>\n      <td>1</td>\n      <td>1</td>\n      <td>1</td>\n      <td>1</td>\n      <td>3</td>\n      <td>1.0</td>\n    </tr>\n    <tr>\n      <th>21</th>\n      <td>1</td>\n      <td>2.0</td>\n      <td>1</td>\n      <td>1</td>\n      <td>1</td>\n      <td>1</td>\n      <td>1</td>\n      <td>1</td>\n      <td>2.0</td>\n    </tr>\n    <tr>\n      <th>22</th>\n      <td>1</td>\n      <td>2.0</td>\n      <td>1</td>\n      <td>1</td>\n      <td>1</td>\n      <td>1</td>\n      <td>1</td>\n      <td>2</td>\n      <td>3.0</td>\n    </tr>\n  </tbody>\n</table>\n</div>"
     },
     "execution_count": 24,
     "metadata": {},
     "output_type": "execute_result"
    }
   ],
   "source": [
    "df.head(20)"
   ],
   "metadata": {
    "collapsed": false
   }
  },
  {
   "cell_type": "code",
   "execution_count": 21,
   "outputs": [],
   "source": [
    "# df.to_csv(\"compas-scores-preprocessed.csv\", index=False, header=False)"
   ],
   "metadata": {
    "collapsed": false
   }
  },
  {
   "cell_type": "code",
   "execution_count": 27,
   "outputs": [
    {
     "data": {
      "text/plain": "      Sex_Code_Text Ethnic_Code_Text ScaleSet_ID AssessmentReason LegalStatus  \\\ncount     48818.000        48818.000   48818.000        48818.000   48818.000   \nmean          1.226            1.554       1.039            1.000       1.616   \nstd           0.418            0.497       0.193            0.000       1.339   \nmin           1.000            1.000       1.000            1.000       1.000   \n25%           1.000            1.000       1.000            1.000       1.000   \n50%           1.000            2.000       1.000            1.000       1.000   \n75%           1.000            2.000       1.000            1.000       2.000   \nmax           2.000            2.000       2.000            1.000       7.000   \n\n      CustodyStatus MaritalStatus   Scale_ID  ScoreText  \ncount     48818.000     48818.000  48818.000  48818.000  \nmean          1.614         1.488      2.000      1.475  \nstd           0.720         1.089      0.817      0.710  \nmin           1.000         1.000      1.000      1.000  \n25%           1.000         1.000      1.000      1.000  \n50%           1.000         1.000      2.000      1.000  \n75%           2.000         1.000      3.000      2.000  \nmax           6.000         7.000      3.000      3.000  ",
      "text/html": "<div>\n<style scoped>\n    .dataframe tbody tr th:only-of-type {\n        vertical-align: middle;\n    }\n\n    .dataframe tbody tr th {\n        vertical-align: top;\n    }\n\n    .dataframe thead th {\n        text-align: right;\n    }\n</style>\n<table border=\"1\" class=\"dataframe\">\n  <thead>\n    <tr style=\"text-align: right;\">\n      <th></th>\n      <th>Sex_Code_Text</th>\n      <th>Ethnic_Code_Text</th>\n      <th>ScaleSet_ID</th>\n      <th>AssessmentReason</th>\n      <th>LegalStatus</th>\n      <th>CustodyStatus</th>\n      <th>MaritalStatus</th>\n      <th>Scale_ID</th>\n      <th>ScoreText</th>\n    </tr>\n  </thead>\n  <tbody>\n    <tr>\n      <th>count</th>\n      <td>48818.000</td>\n      <td>48818.000</td>\n      <td>48818.000</td>\n      <td>48818.000</td>\n      <td>48818.000</td>\n      <td>48818.000</td>\n      <td>48818.000</td>\n      <td>48818.000</td>\n      <td>48818.000</td>\n    </tr>\n    <tr>\n      <th>mean</th>\n      <td>1.226</td>\n      <td>1.554</td>\n      <td>1.039</td>\n      <td>1.000</td>\n      <td>1.616</td>\n      <td>1.614</td>\n      <td>1.488</td>\n      <td>2.000</td>\n      <td>1.475</td>\n    </tr>\n    <tr>\n      <th>std</th>\n      <td>0.418</td>\n      <td>0.497</td>\n      <td>0.193</td>\n      <td>0.000</td>\n      <td>1.339</td>\n      <td>0.720</td>\n      <td>1.089</td>\n      <td>0.817</td>\n      <td>0.710</td>\n    </tr>\n    <tr>\n      <th>min</th>\n      <td>1.000</td>\n      <td>1.000</td>\n      <td>1.000</td>\n      <td>1.000</td>\n      <td>1.000</td>\n      <td>1.000</td>\n      <td>1.000</td>\n      <td>1.000</td>\n      <td>1.000</td>\n    </tr>\n    <tr>\n      <th>25%</th>\n      <td>1.000</td>\n      <td>1.000</td>\n      <td>1.000</td>\n      <td>1.000</td>\n      <td>1.000</td>\n      <td>1.000</td>\n      <td>1.000</td>\n      <td>1.000</td>\n      <td>1.000</td>\n    </tr>\n    <tr>\n      <th>50%</th>\n      <td>1.000</td>\n      <td>2.000</td>\n      <td>1.000</td>\n      <td>1.000</td>\n      <td>1.000</td>\n      <td>1.000</td>\n      <td>1.000</td>\n      <td>2.000</td>\n      <td>1.000</td>\n    </tr>\n    <tr>\n      <th>75%</th>\n      <td>1.000</td>\n      <td>2.000</td>\n      <td>1.000</td>\n      <td>1.000</td>\n      <td>2.000</td>\n      <td>2.000</td>\n      <td>1.000</td>\n      <td>3.000</td>\n      <td>2.000</td>\n    </tr>\n    <tr>\n      <th>max</th>\n      <td>2.000</td>\n      <td>2.000</td>\n      <td>2.000</td>\n      <td>1.000</td>\n      <td>7.000</td>\n      <td>6.000</td>\n      <td>7.000</td>\n      <td>3.000</td>\n      <td>3.000</td>\n    </tr>\n  </tbody>\n</table>\n</div>"
     },
     "execution_count": 27,
     "metadata": {},
     "output_type": "execute_result"
    }
   ],
   "source": [
    "df.describe().applymap(lambda x: f\"{x:0.3f}\")"
   ],
   "metadata": {
    "collapsed": false
   }
  },
  {
   "cell_type": "code",
   "execution_count": 66,
   "outputs": [
    {
     "data": {
      "text/plain": "0      1169\n1      5951\n2      2096\n3      7882\n4      4870\n       ... \n995    1736\n996    3857\n997     804\n998    1845\n999    4576\nName: Credit amount, Length: 1000, dtype: int64"
     },
     "execution_count": 66,
     "metadata": {},
     "output_type": "execute_result"
    }
   ],
   "source": [
    "# German\n",
    "\n",
    "headers=[\"Status of existing checking account\",\"Duration in month\",\"Credit history\",\\\n",
    "         \"Purpose\",\"Credit amount\",\"Savings account/bonds\",\"Present employment since\",\\\n",
    "         \"Installment rate in percentage of disposable income\",\"Personal status and sex\",\\\n",
    "         \"Other debtors / guarantors\",\"Present residence since\",\"Property\",\"Age in years\",\\\n",
    "        \"Other installment plans\",\"Housing\",\"Number of existing credits at this bank\",\\\n",
    "        \"Job\",\"Number of people being liable to provide maintenance for\",\"Telephone\",\"foreign worker\",\"Cost Matrix(Risk)\"]\n",
    "df=pd.read_csv(\"http://archive.ics.uci.edu/ml/machine-learning-databases/statlog/german/german.data\",sep=\" \",header=None)\n",
    "df.columns=headers\n",
    "# df = pd.read_csv(\"german-data.csv\", names=header, delimiter=r\"\\s+\")\n",
    "df['Credit amount']"
   ],
   "metadata": {
    "collapsed": false
   }
  },
  {
   "cell_type": "code",
   "execution_count": 67,
   "outputs": [
    {
     "name": "stdout",
     "output_type": "stream",
     "text": [
      "Unique values in column 'Status of existing checking account': 4\n",
      "Unique values in column 'Duration in month': 33\n",
      "Unique values in column 'Credit history': 5\n",
      "Unique values in column 'Purpose': 10\n",
      "Unique values in column 'Credit amount': 921\n",
      "Unique values in column 'Savings account/bonds': 5\n",
      "Unique values in column 'Present employment since': 5\n",
      "Unique values in column 'Installment rate in percentage of disposable income': 4\n",
      "Unique values in column 'Personal status and sex': 4\n",
      "Unique values in column 'Other debtors / guarantors': 3\n",
      "Unique values in column 'Present residence since': 4\n",
      "Unique values in column 'Property': 4\n",
      "Unique values in column 'Age in years': 53\n",
      "Unique values in column 'Other installment plans': 3\n",
      "Unique values in column 'Housing': 3\n",
      "Unique values in column 'Number of existing credits at this bank': 4\n",
      "Unique values in column 'Job': 4\n",
      "Unique values in column 'Number of people being liable to provide maintenance for': 2\n",
      "Unique values in column 'Telephone': 2\n",
      "Unique values in column 'foreign worker': 2\n",
      "Unique values in column 'Cost Matrix(Risk)': 2\n"
     ]
    }
   ],
   "source": [
    "for col in df.columns:\n",
    "    unique_values = df[col].unique()\n",
    "    print(f\"Unique values in column '{col}': {len(unique_values)}\")"
   ],
   "metadata": {
    "collapsed": false
   }
  },
  {
   "cell_type": "code",
   "execution_count": 68,
   "outputs": [],
   "source": [
    "object_columns = df.select_dtypes(include=['object']).columns\n",
    "\n",
    "# Step 2: Convert each unique string in these columns to a unique integer\n",
    "for col in object_columns:\n",
    "    df[col] = pd.factorize(df[col])[0]"
   ],
   "metadata": {
    "collapsed": false
   }
  },
  {
   "cell_type": "code",
   "execution_count": 69,
   "outputs": [
    {
     "name": "stdout",
     "output_type": "stream",
     "text": [
      "Unique values in column 'Status of existing checking account': 4\n",
      "Unique values in column 'Duration in month': 33\n",
      "Unique values in column 'Credit history': 5\n",
      "Unique values in column 'Purpose': 10\n",
      "Unique values in column 'Credit amount': 921\n",
      "Unique values in column 'Savings account/bonds': 5\n",
      "Unique values in column 'Present employment since': 5\n",
      "Unique values in column 'Installment rate in percentage of disposable income': 4\n",
      "Unique values in column 'Personal status and sex': 4\n",
      "Unique values in column 'Other debtors / guarantors': 3\n",
      "Unique values in column 'Present residence since': 4\n",
      "Unique values in column 'Property': 4\n",
      "Unique values in column 'Age in years': 53\n",
      "Unique values in column 'Other installment plans': 3\n",
      "Unique values in column 'Housing': 3\n",
      "Unique values in column 'Number of existing credits at this bank': 4\n",
      "Unique values in column 'Job': 4\n",
      "Unique values in column 'Number of people being liable to provide maintenance for': 2\n",
      "Unique values in column 'Telephone': 2\n",
      "Unique values in column 'foreign worker': 2\n",
      "Unique values in column 'Cost Matrix(Risk)': 2\n"
     ]
    }
   ],
   "source": [
    "for col in df.columns:\n",
    "    unique_values = df[col].unique()\n",
    "    print(f\"Unique values in column '{col}': {len(unique_values)}\")"
   ],
   "metadata": {
    "collapsed": false
   }
  },
  {
   "cell_type": "code",
   "execution_count": 70,
   "outputs": [],
   "source": [
    "to_keep = ['Credit']\n",
    "\n",
    "to_keep = [\"Duration in month\",\n",
    "           \"Credit amount\",\n",
    "           \"Installment rate in percentage of disposable income\",\n",
    "           \"Age in years\",\n",
    "           \"Number of existing credits at this bank\",\n",
    "           \"Cost Matrix(Risk)\"]\n",
    "\n",
    "df = df[to_keep]\n"
   ],
   "metadata": {
    "collapsed": false
   }
  },
  {
   "cell_type": "code",
   "execution_count": 71,
   "outputs": [
    {
     "data": {
      "text/plain": "     Duration in month  Credit amount  \\\n0                    6           1169   \n1                   48           5951   \n2                   12           2096   \n3                   42           7882   \n4                   24           4870   \n..                 ...            ...   \n995                 12           1736   \n996                 30           3857   \n997                 12            804   \n998                 45           1845   \n999                 45           4576   \n\n     Installment rate in percentage of disposable income  Age in years  \\\n0                                                    4              67   \n1                                                    2              22   \n2                                                    2              49   \n3                                                    2              45   \n4                                                    3              53   \n..                                                 ...             ...   \n995                                                  3              31   \n996                                                  4              40   \n997                                                  4              38   \n998                                                  4              23   \n999                                                  3              27   \n\n     Number of existing credits at this bank  Cost Matrix(Risk)  \n0                                          2                  1  \n1                                          1                  2  \n2                                          1                  1  \n3                                          1                  1  \n4                                          2                  2  \n..                                       ...                ...  \n995                                        1                  1  \n996                                        1                  1  \n997                                        1                  1  \n998                                        1                  2  \n999                                        1                  1  \n\n[1000 rows x 6 columns]",
      "text/html": "<div>\n<style scoped>\n    .dataframe tbody tr th:only-of-type {\n        vertical-align: middle;\n    }\n\n    .dataframe tbody tr th {\n        vertical-align: top;\n    }\n\n    .dataframe thead th {\n        text-align: right;\n    }\n</style>\n<table border=\"1\" class=\"dataframe\">\n  <thead>\n    <tr style=\"text-align: right;\">\n      <th></th>\n      <th>Duration in month</th>\n      <th>Credit amount</th>\n      <th>Installment rate in percentage of disposable income</th>\n      <th>Age in years</th>\n      <th>Number of existing credits at this bank</th>\n      <th>Cost Matrix(Risk)</th>\n    </tr>\n  </thead>\n  <tbody>\n    <tr>\n      <th>0</th>\n      <td>6</td>\n      <td>1169</td>\n      <td>4</td>\n      <td>67</td>\n      <td>2</td>\n      <td>1</td>\n    </tr>\n    <tr>\n      <th>1</th>\n      <td>48</td>\n      <td>5951</td>\n      <td>2</td>\n      <td>22</td>\n      <td>1</td>\n      <td>2</td>\n    </tr>\n    <tr>\n      <th>2</th>\n      <td>12</td>\n      <td>2096</td>\n      <td>2</td>\n      <td>49</td>\n      <td>1</td>\n      <td>1</td>\n    </tr>\n    <tr>\n      <th>3</th>\n      <td>42</td>\n      <td>7882</td>\n      <td>2</td>\n      <td>45</td>\n      <td>1</td>\n      <td>1</td>\n    </tr>\n    <tr>\n      <th>4</th>\n      <td>24</td>\n      <td>4870</td>\n      <td>3</td>\n      <td>53</td>\n      <td>2</td>\n      <td>2</td>\n    </tr>\n    <tr>\n      <th>...</th>\n      <td>...</td>\n      <td>...</td>\n      <td>...</td>\n      <td>...</td>\n      <td>...</td>\n      <td>...</td>\n    </tr>\n    <tr>\n      <th>995</th>\n      <td>12</td>\n      <td>1736</td>\n      <td>3</td>\n      <td>31</td>\n      <td>1</td>\n      <td>1</td>\n    </tr>\n    <tr>\n      <th>996</th>\n      <td>30</td>\n      <td>3857</td>\n      <td>4</td>\n      <td>40</td>\n      <td>1</td>\n      <td>1</td>\n    </tr>\n    <tr>\n      <th>997</th>\n      <td>12</td>\n      <td>804</td>\n      <td>4</td>\n      <td>38</td>\n      <td>1</td>\n      <td>1</td>\n    </tr>\n    <tr>\n      <th>998</th>\n      <td>45</td>\n      <td>1845</td>\n      <td>4</td>\n      <td>23</td>\n      <td>1</td>\n      <td>2</td>\n    </tr>\n    <tr>\n      <th>999</th>\n      <td>45</td>\n      <td>4576</td>\n      <td>3</td>\n      <td>27</td>\n      <td>1</td>\n      <td>1</td>\n    </tr>\n  </tbody>\n</table>\n<p>1000 rows × 6 columns</p>\n</div>"
     },
     "execution_count": 71,
     "metadata": {},
     "output_type": "execute_result"
    }
   ],
   "source": [
    "df"
   ],
   "metadata": {
    "collapsed": false
   }
  },
  {
   "cell_type": "code",
   "execution_count": 72,
   "outputs": [],
   "source": [
    "df.to_csv(\"german-preprocessed.csv\", index=False, header=False)\n"
   ],
   "metadata": {
    "collapsed": false
   }
  },
  {
   "cell_type": "code",
   "execution_count": null,
   "outputs": [],
   "source": [],
   "metadata": {
    "collapsed": false
   }
  }
 ],
 "metadata": {
  "kernelspec": {
   "display_name": "Python 3",
   "language": "python",
   "name": "python3"
  },
  "language_info": {
   "codemirror_mode": {
    "name": "ipython",
    "version": 2
   },
   "file_extension": ".py",
   "mimetype": "text/x-python",
   "name": "python",
   "nbconvert_exporter": "python",
   "pygments_lexer": "ipython2",
   "version": "2.7.6"
  }
 },
 "nbformat": 4,
 "nbformat_minor": 0
}
